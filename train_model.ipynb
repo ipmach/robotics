{
  "nbformat": 4,
  "nbformat_minor": 0,
  "metadata": {
    "colab": {
      "name": "pruebas.ipynb",
      "provenance": [],
      "collapsed_sections": []
    },
    "kernelspec": {
      "name": "python3",
      "display_name": "Python 3"
    },
    "accelerator": "GPU"
  },
  "cells": [
    {
      "cell_type": "code",
      "metadata": {
        "id": "VTso06wX-z72",
        "colab_type": "code",
        "outputId": "ed429bf1-5b54-49fe-d8d2-b7db3726a64d",
        "colab": {
          "base_uri": "https://localhost:8080/",
          "height": 35
        }
      },
      "source": [
        "from google.colab import drive\n",
        "drive.mount('/content/drive')"
      ],
      "execution_count": 0,
      "outputs": [
        {
          "output_type": "stream",
          "text": [
            "Drive already mounted at /content/drive; to attempt to forcibly remount, call drive.mount(\"/content/drive\", force_remount=True).\n"
          ],
          "name": "stdout"
        }
      ]
    },
    {
      "cell_type": "code",
      "metadata": {
        "id": "UwzhFn-Fr1S2",
        "colab_type": "code",
        "outputId": "7b587fc6-cff1-4ea7-fd66-414353bf419f",
        "colab": {
          "base_uri": "https://localhost:8080/",
          "height": 52
        }
      },
      "source": [
        "import os\n",
        "!ls '/content/drive/My Drive/pruebas/'"
      ],
      "execution_count": 0,
      "outputs": [
        {
          "output_type": "stream",
          "text": [
            "5k_model.hdf5  model3.h5  modelB.hdf5  pruebas.ipynb\n",
            "model2b.h5     modelB.h5  modelC.h5\n"
          ],
          "name": "stdout"
        }
      ]
    },
    {
      "cell_type": "code",
      "metadata": {
        "id": "dni5o77e-3hl",
        "colab_type": "code",
        "colab": {}
      },
      "source": [
        "path = '/content/drive/My Drive/pruebas/'\n",
        "import sys\n",
        "sys.path.insert(1, path)\n",
        "\n",
        "##import image_dataset #file located in colab\n",
        "import numpy as np\n",
        "import tensorflow as tf\n",
        "#network libraries\n",
        "from tensorflow import keras\n",
        "from tensorflow.keras.models import Sequential\n",
        "from tensorflow.keras.layers import Dense, Dropout, Activation, Flatten\n",
        "from tensorflow.keras.layers import Conv2D, MaxPooling2D\n",
        "from keras.preprocessing.image import ImageDataGenerator, array_to_img, img_to_array, load_img\n",
        "\n",
        "#pictures libraries\n",
        "import cv2\n",
        "from google.colab.patches import cv2_imshow\n",
        "\n",
        "import matplotlib.pyplot as plt"
      ],
      "execution_count": 0,
      "outputs": []
    },
    {
      "cell_type": "code",
      "metadata": {
        "id": "7s8pna_F_Fq1",
        "colab_type": "code",
        "outputId": "50fbe9d1-1309-4e08-aae3-08a805b2d2e9",
        "colab": {
          "base_uri": "https://localhost:8080/",
          "height": 52
        }
      },
      "source": [
        "x_train = np.load(path+\"data_x.npz\")\n",
        "y_train = np.load(path+\"data_y.npz\")\n",
        "x_train = x_train.f.arr_0 \n",
        "y_train = y_train.f.arr_0 \n",
        "#y_train = np.round(y_train,decimals = 1)\n",
        "#x_train =x_train/255\n",
        "#split = int(x_train.shape[0]*0.9)\n",
        "#x_val = x_train[split:]\n",
        "#y_val = y_train[split:]\n",
        "#x_train = x_train[:split]\n",
        "#y_train = y_train[:split]\n",
        "print(x_train.shape)\n",
        "print(y_train.shape)\n",
        "#print(x_val.shape)\n",
        "#print(y_val.shape)\n"
      ],
      "execution_count": 0,
      "outputs": [
        {
          "output_type": "stream",
          "text": [
            "(5000, 96, 128, 3)\n",
            "(5000,)\n"
          ],
          "name": "stdout"
        }
      ]
    },
    {
      "cell_type": "code",
      "metadata": {
        "id": "n3quA73A2Fo9",
        "colab_type": "code",
        "outputId": "c4890340-5cf9-4064-8bdd-8a454831c7b2",
        "colab": {
          "base_uri": "https://localhost:8080/",
          "height": 316
        }
      },
      "source": [
        "#import PIL \n",
        "#x_train = np.array(list(map(lambda x:np.array(PIL.Image.fromarray(x,'RGB').filter(PIL.ImageFilter.FIND_EDGES))/255,x_train)))\n",
        "#y_train = y_train.reshape(y_train.shape[0])\n",
        "import pandas as pd\n",
        "pd.DataFrame(y_train).hist()"
      ],
      "execution_count": 0,
      "outputs": [
        {
          "output_type": "execute_result",
          "data": {
            "text/plain": [
              "array([[<matplotlib.axes._subplots.AxesSubplot object at 0x7fc08a29cda0>]],\n",
              "      dtype=object)"
            ]
          },
          "metadata": {
            "tags": []
          },
          "execution_count": 31
        },
        {
          "output_type": "display_data",
          "data": {
            "image/png": "[encoded data removed]",
            "text/plain": [
              "<Figure size 432x288 with 1 Axes>"
            ]
          },
          "metadata": {
            "tags": [],
            "needs_background": "light"
          }
        }
      ]
    },
    {
      "cell_type": "code",
      "metadata": {
        "id": "GxV5UcRBQzAx",
        "colab_type": "code",
        "outputId": "825749a6-03f0-48d0-879a-8e40fec7c981",
        "colab": {
          "base_uri": "https://localhost:8080/",
          "height": 35
        }
      },
      "source": [
        "import PIL\n",
        "def find_walls(data):\n",
        "    \"\"\"\n",
        "    Return all wall indexs found\n",
        "    \"\"\"\n",
        "    total = len(data)\n",
        "    funv = np.vectorize(lambda x: 0 if x <100 else 1)\n",
        "    data = map(lambda x: 0==sum(funv(np.mean(PIL.Image.fromarray(x,'RGB').filter(PIL.ImageFilter.FIND_EDGES),axis=2).reshape(-1))),data)\n",
        "    wall_index = np.argwhere(np.array(list(data)).astype(np.int64) == 1).reshape(-1)\n",
        "    print(\"finish: {} front walls found, {:.2f}% of the total data\".format(wall_index.shape[0],wall_index.shape[0]*100/total))\n",
        "    return wall_index\n",
        "\n",
        "wall_index = find_walls(x_train)\n"
      ],
      "execution_count": 0,
      "outputs": [
        {
          "output_type": "stream",
          "text": [
            "finish: 963 front walls found, 19.26% of the total data\n"
          ],
          "name": "stdout"
        }
      ]
    },
    {
      "cell_type": "code",
      "metadata": {
        "id": "xmOgeH4ISAYi",
        "colab_type": "code",
        "outputId": "5b724159-e7b0-4e3a-b72f-ad25e353a47b",
        "colab": {
          "base_uri": "https://localhost:8080/",
          "height": 316
        }
      },
      "source": [
        "for i in wall_index:\n",
        "  y_train[i] = 1\n",
        "\n",
        "#x_train = x_train[[wall_index]]\n",
        "#y_train = y_train[[wall_index]]\n",
        "pd.DataFrame(y_train).hist()"
      ],
      "execution_count": 0,
      "outputs": [
        {
          "output_type": "execute_result",
          "data": {
            "text/plain": [
              "array([[<matplotlib.axes._subplots.AxesSubplot object at 0x7fc08a1d00f0>]],\n",
              "      dtype=object)"
            ]
          },
          "metadata": {
            "tags": []
          },
          "execution_count": 33
        },
        {
          "output_type": "display_data",
          "data": {
            "image/png": "[encoded data removed]",
            "text/plain": [
              "<Figure size 432x288 with 1 Axes>"
            ]
          },
          "metadata": {
            "tags": [],
            "needs_background": "light"
          }
        }
      ]
    },
    {
      "cell_type": "code",
      "metadata": {
        "id": "kMIb7shaRTOk",
        "colab_type": "code",
        "colab": {}
      },
      "source": [
        "x_train = x_train/255."
      ],
      "execution_count": 0,
      "outputs": []
    },
    {
      "cell_type": "code",
      "metadata": {
        "id": "lg4S2SSuAAI0",
        "colab_type": "code",
        "outputId": "22b1f52a-e8bf-48c8-d28d-b86e8044ddcf",
        "colab": {
          "base_uri": "https://localhost:8080/",
          "height": 441
        }
      },
      "source": [
        "keras.backend.clear_session()\n",
        "#Creation of keras sequence CNN\n",
        "model = Sequential()\n",
        "\n",
        "#Layer 1 and 2 filtering 3x3x32 + maxpooling 3x3 + dropout\n",
        "model.add(Conv2D(8, kernel_size=3, activation='relu', padding='same', input_shape=(96, 128, 3)))\n",
        "model.add(MaxPooling2D(pool_size=(2, 2)))\n",
        "\n",
        "#Layer 3 and 4 filtering 3x3x64 + maxpooling 3x3 + dropout\n",
        "model.add(Conv2D(16, kernel_size=3, padding='same', activation='relu'))\n",
        "model.add(MaxPooling2D(pool_size=(2, 2)))\n",
        "\n",
        "#flatten and fully connected layer\n",
        "model.add(Flatten())\n",
        "model.add(Dense(16, activation='tanh'))\n",
        "model.add(Dropout(rate=0.3))\n",
        "\n",
        "model.add(Dense(1, activation='tanh'))\n",
        "\n",
        "# opt = keras.optimizers.RMSprop(learning_rate = learn_rate, decay=1e-6)\n",
        "# opt = keras.optimizers.Adam(learning_rate=learn_rate)\n",
        "opt = keras.optimizers.Adam( learning_rate=0.001)\n",
        "model.compile(loss='mse', optimizer=opt)\n",
        "model.summary()"
      ],
      "execution_count": 0,
      "outputs": [
        {
          "output_type": "stream",
          "text": [
            "Model: \"sequential\"\n",
            "_________________________________________________________________\n",
            "Layer (type)                 Output Shape              Param #   \n",
            "=================================================================\n",
            "conv2d (Conv2D)              (None, 96, 128, 8)        224       \n",
            "_________________________________________________________________\n",
            "max_pooling2d (MaxPooling2D) (None, 48, 64, 8)         0         \n",
            "_________________________________________________________________\n",
            "conv2d_1 (Conv2D)            (None, 48, 64, 16)        1168      \n",
            "_________________________________________________________________\n",
            "max_pooling2d_1 (MaxPooling2 (None, 24, 32, 16)        0         \n",
            "_________________________________________________________________\n",
            "flatten (Flatten)            (None, 12288)             0         \n",
            "_________________________________________________________________\n",
            "dense (Dense)                (None, 16)                196624    \n",
            "_________________________________________________________________\n",
            "dropout (Dropout)            (None, 16)                0         \n",
            "_________________________________________________________________\n",
            "dense_1 (Dense)              (None, 1)                 17        \n",
            "=================================================================\n",
            "Total params: 198,033\n",
            "Trainable params: 198,033\n",
            "Non-trainable params: 0\n",
            "_________________________________________________________________\n"
          ],
          "name": "stdout"
        }
      ]
    },
    {
      "cell_type": "code",
      "metadata": {
        "id": "WcozfA00AXBV",
        "colab_type": "code",
        "outputId": "65e6a6fb-ed9c-48d0-e4b8-c793f3afb0e1",
        "colab": {
          "base_uri": "https://localhost:8080/",
          "height": 370
        }
      },
      "source": [
        "history = model.fit(x_train, y_train,\n",
        "              validation_split = 0.2,  \n",
        "              batch_size=12,\n",
        "              epochs=10,\n",
        "              shuffle=True)"
      ],
      "execution_count": 0,
      "outputs": [
        {
          "output_type": "stream",
          "text": [
            "Epoch 1/10\n",
            "334/334 [==============================] - 2s 6ms/step - loss: 0.1396 - val_loss: 0.1454\n",
            "Epoch 2/10\n",
            "334/334 [==============================] - 2s 5ms/step - loss: 0.1099 - val_loss: 0.1230\n",
            "Epoch 3/10\n",
            "334/334 [==============================] - 2s 5ms/step - loss: 0.0999 - val_loss: 0.1236\n",
            "Epoch 4/10\n",
            "334/334 [==============================] - 2s 5ms/step - loss: 0.0895 - val_loss: 0.1205\n",
            "Epoch 5/10\n",
            "334/334 [==============================] - 2s 5ms/step - loss: 0.0823 - val_loss: 0.1206\n",
            "Epoch 6/10\n",
            "334/334 [==============================] - 2s 5ms/step - loss: 0.0820 - val_loss: 0.1262\n",
            "Epoch 7/10\n",
            "334/334 [==============================] - 2s 5ms/step - loss: 0.0771 - val_loss: 0.1289\n",
            "Epoch 8/10\n",
            "334/334 [==============================] - 2s 5ms/step - loss: 0.0756 - val_loss: 0.1304\n",
            "Epoch 9/10\n",
            "334/334 [==============================] - 2s 5ms/step - loss: 0.0736 - val_loss: 0.1252\n",
            "Epoch 10/10\n",
            "334/334 [==============================] - 2s 5ms/step - loss: 0.0741 - val_loss: 0.1306\n"
          ],
          "name": "stdout"
        }
      ]
    },
    {
      "cell_type": "code",
      "metadata": {
        "id": "VyeBx9b1AHBX",
        "colab_type": "code",
        "outputId": "84b195b5-ae52-4787-df1d-817bd6867eb5",
        "colab": {
          "base_uri": "https://localhost:8080/",
          "height": 297
        }
      },
      "source": [
        "fig = plt.figure(1)\n",
        "fig.patch.set_facecolor('#FFFFFF')\n",
        "plt.plot(history.history[\"loss\"],label=\"train\")\n",
        "plt.plot(history.history[\"val_loss\"], label=\"val\")\n",
        "plt.xlabel(\"loss\")\n",
        "plt.ylabel(\"epochs\")\n",
        "plt.legend()"
      ],
      "execution_count": 0,
      "outputs": [
        {
          "output_type": "execute_result",
          "data": {
            "text/plain": [
              "<matplotlib.legend.Legend at 0x7fc08276d7b8>"
            ]
          },
          "metadata": {
            "tags": []
          },
          "execution_count": 37
        },
        {
          "output_type": "display_data",
          "data": {
            "image/png": "[encoded data removed]",
            "text/plain": [
              "<Figure size 432x288 with 1 Axes>"
            ]
          },
          "metadata": {
            "tags": []
          }
        }
      ]
    },
    {
      "cell_type": "code",
      "metadata": {
        "id": "Mf8w-tDGANy5",
        "colab_type": "code",
        "colab": {}
      },
      "source": [
        "\n",
        "left  = 1.125  # the left side of the subplots of the figure\n",
        "right = 2  # the right side of the subplots of the figure\n",
        "bottom = 0.1   # the bottom of the subplots of the figure\n",
        "top = 1.0      # the top of the subplots of the figure\n",
        "wspace = 0.2   # the amount of width reserved for blank space between subplots\n",
        "hspace = 0.2   # the amount of height reserved for white space between subplots"
      ],
      "execution_count": 0,
      "outputs": []
    },
    {
      "cell_type": "code",
      "metadata": {
        "id": "thFbg8DDCtir",
        "colab_type": "code",
        "outputId": "ee984a2e-ce5f-40e7-9f86-594dbf67c262",
        "colab": {
          "base_uri": "https://localhost:8080/",
          "height": 408
        }
      },
      "source": [
        "i = 0\n",
        "j = 1\n",
        "sample = np.random.choice(np.arange(len(y_train)),size=20)\n",
        "fig = plt.figure(figsize = (10,50))\n",
        "fig.patch.set_facecolor('#FFFFFF')\n",
        "plt.subplots_adjust(left=left, bottom=bottom, right=right, top=top, wspace=wspace, hspace=hspace)\n",
        "num_per_row = 4\n",
        "for s in sample:\n",
        "    img = x_train[s]\n",
        "    y = y_train[s]\n",
        "    angular = model.predict(img.reshape(1,96,128,3))\n",
        "    plt.subplot(20, num_per_row, i+1)\n",
        "    plt.title(\"label: {:.2f} \\n prediction {:.2f}\".format(y,angular[0][0]))\n",
        "    plt.imshow(img)\n",
        "    i += 1"
      ],
      "execution_count": 0,
      "outputs": [
        {
          "output_type": "error",
          "ename": "TypeError",
          "evalue": "ignored",
          "traceback": [
            "\u001b[0;31m---------------------------------------------------------------------------\u001b[0m",
            "\u001b[0;31mTypeError\u001b[0m                                 Traceback (most recent call last)",
            "\u001b[0;32m<ipython-input-16-371a31639148>\u001b[0m in \u001b[0;36m<module>\u001b[0;34m()\u001b[0m\n\u001b[1;32m     11\u001b[0m     \u001b[0mangular\u001b[0m \u001b[0;34m=\u001b[0m \u001b[0mmodel\u001b[0m\u001b[0;34m.\u001b[0m\u001b[0mpredict\u001b[0m\u001b[0;34m(\u001b[0m\u001b[0mimg\u001b[0m\u001b[0;34m.\u001b[0m\u001b[0mreshape\u001b[0m\u001b[0;34m(\u001b[0m\u001b[0;36m1\u001b[0m\u001b[0;34m,\u001b[0m\u001b[0;36m96\u001b[0m\u001b[0;34m,\u001b[0m\u001b[0;36m128\u001b[0m\u001b[0;34m,\u001b[0m\u001b[0;36m3\u001b[0m\u001b[0;34m)\u001b[0m\u001b[0;34m)\u001b[0m\u001b[0;34m\u001b[0m\u001b[0;34m\u001b[0m\u001b[0m\n\u001b[1;32m     12\u001b[0m     \u001b[0mplt\u001b[0m\u001b[0;34m.\u001b[0m\u001b[0msubplot\u001b[0m\u001b[0;34m(\u001b[0m\u001b[0;36m20\u001b[0m\u001b[0;34m,\u001b[0m \u001b[0mnum_per_row\u001b[0m\u001b[0;34m,\u001b[0m \u001b[0mi\u001b[0m\u001b[0;34m+\u001b[0m\u001b[0;36m1\u001b[0m\u001b[0;34m)\u001b[0m\u001b[0;34m\u001b[0m\u001b[0;34m\u001b[0m\u001b[0m\n\u001b[0;32m---> 13\u001b[0;31m     \u001b[0mplt\u001b[0m\u001b[0;34m.\u001b[0m\u001b[0mtitle\u001b[0m\u001b[0;34m(\u001b[0m\u001b[0;34m\"label: {:.2f} \\n prediction {:.2f}\"\u001b[0m\u001b[0;34m.\u001b[0m\u001b[0mformat\u001b[0m\u001b[0;34m(\u001b[0m\u001b[0my\u001b[0m\u001b[0;34m,\u001b[0m\u001b[0mangular\u001b[0m\u001b[0;34m[\u001b[0m\u001b[0;36m0\u001b[0m\u001b[0;34m]\u001b[0m\u001b[0;34m[\u001b[0m\u001b[0;36m0\u001b[0m\u001b[0;34m]\u001b[0m\u001b[0;34m)\u001b[0m\u001b[0;34m)\u001b[0m\u001b[0;34m\u001b[0m\u001b[0;34m\u001b[0m\u001b[0m\n\u001b[0m\u001b[1;32m     14\u001b[0m     \u001b[0mplt\u001b[0m\u001b[0;34m.\u001b[0m\u001b[0mimshow\u001b[0m\u001b[0;34m(\u001b[0m\u001b[0mimg\u001b[0m\u001b[0;34m)\u001b[0m\u001b[0;34m\u001b[0m\u001b[0;34m\u001b[0m\u001b[0m\n\u001b[1;32m     15\u001b[0m     \u001b[0mi\u001b[0m \u001b[0;34m+=\u001b[0m \u001b[0;36m1\u001b[0m\u001b[0;34m\u001b[0m\u001b[0;34m\u001b[0m\u001b[0m\n",
            "\u001b[0;31mTypeError\u001b[0m: unsupported format string passed to numpy.ndarray.__format__"
          ]
        },
        {
          "output_type": "display_data",
          "data": {
            "image/png": "[encoded data removed]",
            "text/plain": [
              "<Figure size 720x3600 with 1 Axes>"
            ]
          },
          "metadata": {
            "tags": []
          }
        }
      ]
    },
    {
      "cell_type": "code",
      "metadata": {
        "id": "2ucidLhqDI3I",
        "colab_type": "code",
        "colab": {}
      },
      "source": [
        "y_predict = model.predict(x_train)"
      ],
      "execution_count": 0,
      "outputs": []
    },
    {
      "cell_type": "code",
      "metadata": {
        "id": "oGDvdAk8pT-v",
        "colab_type": "code",
        "outputId": "6f957f06-f19c-4aa4-8d81-354e3c31f38d",
        "colab": {
          "base_uri": "https://localhost:8080/",
          "height": 297
        }
      },
      "source": [
        "fig = plt.figure()\n",
        "fig.patch.set_facecolor('#FFFFFF')\n",
        "plt.scatter(y_predict, y_train)\n",
        "plt.xlabel('predict')\n",
        "plt.ylabel(\"y\")"
      ],
      "execution_count": 0,
      "outputs": [
        {
          "output_type": "execute_result",
          "data": {
            "text/plain": [
              "Text(0, 0.5, 'y')"
            ]
          },
          "metadata": {
            "tags": []
          },
          "execution_count": 39
        },
        {
          "output_type": "display_data",
          "data": {
            "image/png": "[encoded data removed]",
            "text/plain": [
              "<Figure size 432x288 with 1 Axes>"
            ]
          },
          "metadata": {
            "tags": []
          }
        }
      ]
    },
    {
      "cell_type": "code",
      "metadata": {
        "id": "TGkmiAFrpU-2",
        "colab_type": "code",
        "colab": {}
      },
      "source": [
        "#model.save(path+\"model3.h5\")"
      ],
      "execution_count": 0,
      "outputs": []
    },
    {
      "cell_type": "code",
      "metadata": {
        "id": "JNcTXe4LeP7d",
        "colab_type": "code",
        "colab": {}
      },
      "source": [
        "del(y_predict)"
      ],
      "execution_count": 0,
      "outputs": []
    },
    {
      "cell_type": "code",
      "metadata": {
        "id": "GT13udMdhB9B",
        "colab_type": "code",
        "colab": {}
      },
      "source": [
        ""
      ],
      "execution_count": 0,
      "outputs": []
    }
  ]
}